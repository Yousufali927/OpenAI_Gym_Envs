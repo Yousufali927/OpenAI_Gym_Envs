{
 "cells": [
  {
   "cell_type": "code",
   "execution_count": 28,
   "id": "f2d96746",
   "metadata": {
    "scrolled": true
   },
   "outputs": [],
   "source": [
    "import os\n",
    "import gymnasium as gym\n",
    "from stable_baselines3 import A2C\n",
    "from stable_baselines3.common.vec_env import DummyVecEnv,VecFrameStack ## helps run multiple instances at a time\n",
    "from stable_baselines3.common.evaluation import evaluate_policy\n",
    "from stable_baselines3.common.env_util import make_atari_env"
   ]
  },
  {
   "cell_type": "code",
   "execution_count": 29,
   "id": "7f4a50c4",
   "metadata": {
    "scrolled": true
   },
   "outputs": [],
   "source": [
    "env = gym.make(\"ALE/Breakout-v5\")"
   ]
  },
  {
   "cell_type": "code",
   "execution_count": 30,
   "id": "3b71d05a",
   "metadata": {},
   "outputs": [
    {
     "data": {
      "text/plain": [
       "Box(0, 255, (210, 160, 3), uint8)"
      ]
     },
     "execution_count": 30,
     "metadata": {},
     "output_type": "execute_result"
    }
   ],
   "source": [
    "env.observation_space"
   ]
  },
  {
   "cell_type": "code",
   "execution_count": null,
   "id": "ef84bf2a",
   "metadata": {},
   "outputs": [],
   "source": []
  },
  {
   "cell_type": "code",
   "execution_count": 31,
   "id": "db37ad68",
   "metadata": {},
   "outputs": [],
   "source": [
    "env = make_atari_env('ALE/Breakout-v5', n_envs=4, seed=0)\n",
    "env = VecFrameStack(env, n_stack=4)"
   ]
  },
  {
   "cell_type": "code",
   "execution_count": 32,
   "id": "5d7f60ea",
   "metadata": {},
   "outputs": [
    {
     "name": "stdout",
     "output_type": "stream",
     "text": [
      "Using cpu device\n",
      "Wrapping the env in a VecTransposeImage.\n"
     ]
    }
   ],
   "source": [
    "log_path = os.path.join('Training', 'Logs')\n",
    "model = A2C('CnnPolicy', env, verbose=1, tensorboard_log=log_path)\n",
    "# in the previous 2 problems we use MLP Policy \n",
    "# MLP - Multi-Layer Perceptron a.k.a ANN\n",
    "# here we are using CnnPolicy since we can observe from the observation space that \n",
    "# the model take images as input (210,160,\"3\") -> the 3 is for the RGB Column"
   ]
  },
  {
   "cell_type": "markdown",
   "id": "54ceb2d1",
   "metadata": {},
   "source": [
    "## Training the Model"
   ]
  },
  {
   "cell_type": "code",
   "execution_count": null,
   "id": "7db62380",
   "metadata": {},
   "outputs": [],
   "source": [
    "model.learn(total_timesteps=50000)"
   ]
  },
  {
   "cell_type": "code",
   "execution_count": 34,
   "id": "e05b9d0e",
   "metadata": {},
   "outputs": [],
   "source": [
    "a2c_path = os.path.join('Training','Saved Models', 'A2C_Breakout_Model')"
   ]
  },
  {
   "cell_type": "code",
   "execution_count": null,
   "id": "a9db32e9",
   "metadata": {},
   "outputs": [],
   "source": [
    "model.save(a2c_path)"
   ]
  },
  {
   "cell_type": "markdown",
   "id": "cb0f9135",
   "metadata": {},
   "source": [
    "## Evaluating Model"
   ]
  },
  {
   "cell_type": "code",
   "execution_count": 35,
   "id": "ab6dd669",
   "metadata": {},
   "outputs": [],
   "source": [
    "test_env = make_atari_env('ALE/Breakout-v5', n_envs=1, seed=0)\n",
    "test_env = VecFrameStack(test_env, n_stack=4)"
   ]
  },
  {
   "cell_type": "code",
   "execution_count": 36,
   "id": "ba19b572",
   "metadata": {
    "scrolled": false
   },
   "outputs": [
    {
     "name": "stdout",
     "output_type": "stream",
     "text": [
      "Wrapping the env in a VecTransposeImage.\n"
     ]
    }
   ],
   "source": [
    "model = A2C.load(a2c_path, env = test_env)"
   ]
  },
  {
   "cell_type": "code",
   "execution_count": 37,
   "id": "3fae808f",
   "metadata": {
    "scrolled": true
   },
   "outputs": [
    {
     "data": {
      "text/plain": [
       "(14.6, 3.4698703145794942)"
      ]
     },
     "execution_count": 37,
     "metadata": {},
     "output_type": "execute_result"
    }
   ],
   "source": [
    "evaluate_policy(model, env, n_eval_episodes=10,render=True)"
   ]
  },
  {
   "cell_type": "code",
   "execution_count": 12,
   "id": "bf91d2bb",
   "metadata": {},
   "outputs": [],
   "source": [
    "env.metadata??"
   ]
  },
  {
   "cell_type": "code",
   "execution_count": 38,
   "id": "eb51fe54",
   "metadata": {
    "scrolled": true
   },
   "outputs": [
    {
     "name": "stdout",
     "output_type": "stream",
     "text": [
      "Mean reward: 15.10 +/- 3.51\n"
     ]
    }
   ],
   "source": [
    "mean_reward, std_reward = evaluate_policy(model, test_env, n_eval_episodes=10, render=True)\n",
    "print(f\"Mean reward: {mean_reward:.2f} +/- {std_reward:.2f}\")\n",
    "\n",
    "test_env.close()"
   ]
  }
 ],
 "metadata": {
  "kernelspec": {
   "display_name": "Python 3 (ipykernel)",
   "language": "python",
   "name": "python3"
  },
  "language_info": {
   "codemirror_mode": {
    "name": "ipython",
    "version": 3
   },
   "file_extension": ".py",
   "mimetype": "text/x-python",
   "name": "python",
   "nbconvert_exporter": "python",
   "pygments_lexer": "ipython3",
   "version": "3.11.5"
  }
 },
 "nbformat": 4,
 "nbformat_minor": 5
}
